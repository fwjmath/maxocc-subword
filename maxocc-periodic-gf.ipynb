{
 "cells": [
  {
   "cell_type": "markdown",
   "id": "4c889eb2-987d-486f-a8c8-e72d915fbe3d",
   "metadata": {},
   "source": [
    "# Generating function of the number of occurrences of periodic subword in a periodic word\n",
    "\n",
    "This is a Sagemath Notebook implementing the effective computation of the generating function\n",
    "\n",
    "$$ f_{w, v}(x, y) = \\sum_{m, r \\geq 0} \\operatorname{occ}(w^m, v^r) x^m y^r. $$\n",
    "\n",
    "Here, $\\operatorname{occ}(w, v)$ is the number of occurrences of the subword $v$ in the word $w$.\n",
    "\n",
    "In Theorem 4.13 of my article \"Maximal number of subword occurrences in a word\", available [here](https://arxiv.org/abs/2406.02971), we show that $f_{w, v}(x, y)$ is always a rational fraction of $x, y$, and the computation is effective. This Sagemath Notebook contains a function that does this computation for **binary words**."
   ]
  },
  {
   "cell_type": "markdown",
   "id": "40c0811c-c37d-457f-975d-5771d9bb757a",
   "metadata": {},
   "source": [
    "## Utilities for computing subword occurrences"
   ]
  },
  {
   "cell_type": "code",
   "execution_count": 1,
   "id": "443a04d9-9332-46ba-9636-e943fbfc152e",
   "metadata": {},
   "outputs": [],
   "source": [
    "from itertools import combinations, product\n",
    "from random import randrange\n",
    "\n",
    "bcache = {} # cache for binomial coefficients\n",
    "\n",
    "def binomial(n: int, k: int) -> int:\n",
    "    '''\n",
    "    Compute the binomial coefficient, with memoization\n",
    "    '''\n",
    "    if n < 0 or k < 0 or n < k:\n",
    "        return 0\n",
    "    if k == 0 or k == n:\n",
    "        return 1\n",
    "    if (n, k) in bcache:\n",
    "        return bcache[(n, k)]\n",
    "    res = binomial(n - 1, k - 1) + binomial(n - 1, k)\n",
    "    bcache[(n, k)] = res\n",
    "    return res\n",
    "\n",
    "def subword_count_list(wl: tuple[int], swl: tuple[int]):\n",
    "    '''\n",
    "    Computes the number of occurrences of the subword represented by swl in the word represented by wl.\n",
    "\n",
    "    We assume that the words represented by wl and swl start with the same letter.\n",
    "    \n",
    "    INPUT:\n",
    "    - `wl`: tuple of run lengths of the word\n",
    "    - `swl`: tuple of run lengths of the subword\n",
    "\n",
    "    OUTPUT:\n",
    "    The number of occurrences of the subword in the word\n",
    "    '''\n",
    "    if not swl:\n",
    "        return 1\n",
    "    if not wl or len(wl) < len(swl):\n",
    "        return 0\n",
    "    accu : int = 0\n",
    "    seg : int = swl[0]\n",
    "    newswl : list[int] = list(swl)\n",
    "    for i in range(seg - 1): # number of symbols that we consume (but not all!)\n",
    "        newswl[0] -= 1\n",
    "        mult : int = binomial(wl[0], i + 1)\n",
    "        if mult > 0:\n",
    "            accu += subword_count_list(wl[2:], tuple(newswl)) * mult\n",
    "    # case of consuming all symbols in the first segment\n",
    "    if wl[0] >= swl[0]:\n",
    "        accu += subword_count_list(wl[1:], swl[1:]) * binomial(wl[0], swl[0])\n",
    "    # case of no removal\n",
    "    accu += subword_count_list(wl[2:], swl)\n",
    "    return accu\n",
    "\n",
    "def subword_count(word : str, subword : str) -> int:\n",
    "    '''\n",
    "    Computes the number of occurrences of `subword` in the `word`.\n",
    "\n",
    "    We assume that both strings are binary, containing only 0 and 1.\n",
    "    '''\n",
    "    if len(subword) == 0:\n",
    "        return 1\n",
    "    if len(word) == 0:\n",
    "        return 0\n",
    "    def get_wlist(w: str):\n",
    "        '''\n",
    "        This function computes the list of run lengths of the word `w`.\n",
    "        '''\n",
    "        wl = [1]\n",
    "        for i in range(len(w) - 1):\n",
    "            if w[i] == w[i + 1]:\n",
    "                wl[-1] += 1\n",
    "            else:\n",
    "                wl.append(1)\n",
    "        return tuple(wl)\n",
    "    wl : list[int] = get_wlist(word)\n",
    "    swl : list[int] = get_wlist(subword)\n",
    "    if word[0] != subword[0]: # not sharing the same first letter\n",
    "        wl = wl[1:]\n",
    "    return subword_count_list(wl, swl)"
   ]
  },
  {
   "cell_type": "code",
   "execution_count": 2,
   "id": "257ea7ff-12fb-4186-8972-75fc79c4f408",
   "metadata": {},
   "outputs": [
    {
     "name": "stdout",
     "output_type": "stream",
     "text": [
      "1047330\n"
     ]
    }
   ],
   "source": [
    "# a sanity check\n",
    "\n",
    "print(subword_count(\"011100010111010100010110111001001110\", \"0110011010110110\")); # record for n = 36"
   ]
  },
  {
   "cell_type": "markdown",
   "id": "5d815c07-54d3-46f0-acbf-93fc0f39a911",
   "metadata": {
    "scrolled": true
   },
   "source": [
    "## Implementation of Theorem 4.13"
   ]
  },
  {
   "cell_type": "code",
   "execution_count": 3,
   "id": "15d6002e-6b27-4e1d-8366-2dc37bc12a56",
   "metadata": {},
   "outputs": [],
   "source": [
    "x, y = var('x y')\n",
    "RatRing = FractionField(PolynomialRing(QQ, [x, y]))\n",
    "\n",
    "def simple_occ(w: str, v: str, s: int, t: int) -> int:\n",
    "    '''\n",
    "    This function computes a_{w, v}^{s, t)(1)\n",
    "    '''\n",
    "    # special case: when v is of length 1\n",
    "    if len(v) == 1 and (s != t or w[s] != v[0]):\n",
    "        return 0\n",
    "    # the positions s and t do not match the first and last letters of v\n",
    "    if w[s] != v[0] or w[t] != v[-1]:\n",
    "        return 0\n",
    "    # not enough letters\n",
    "    if s == t and len(v) != 1:\n",
    "        return 0\n",
    "    if s + len(v) - 1 > t:\n",
    "        return 0\n",
    "    return subword_count(w[s + 1 : t], v[1:-1])\n",
    "\n",
    "def single_occ_gf(w: str, v: str, s: int, t: int):\n",
    "    '''\n",
    "    This function compute g_{w, v}^{s, t)(x)\n",
    "    '''\n",
    "    accu = RatRing(simple_occ(w, v, s, t)) # constant term\n",
    "    vlen = len(v)\n",
    "    for lsigma in range(2, vlen + 1):\n",
    "        lsum = 0\n",
    "        for sigma in Compositions(vlen, length=lsigma): # sum over partitions of clusters\n",
    "            swlist = list(sigma)\n",
    "            partialsum = [0]\n",
    "            for e in swlist:\n",
    "                partialsum.append(partialsum[-1] + e)\n",
    "            vsegs = [v[partialsum[i]:partialsum[i + 1]] for i in range(len(swlist))]\n",
    "            lprod = 1\n",
    "            for i in range(1, len(vsegs) - 1):\n",
    "                lprod *= subword_count(w, vsegs[i])\n",
    "            # head and tail segments\n",
    "            lprod *= sum(simple_occ(w, vsegs[0], s, tp) for tp in range(s, len(w)))\n",
    "            lprod *= sum(simple_occ(w, vsegs[-1], sp, t) for sp in range(t + 1))\n",
    "            lsum += lprod\n",
    "        accu += RatRing(lsum * x ^ (lsigma - 1) * (1 - x) ^ (1 - lsigma))\n",
    "    return accu"
   ]
  },
  {
   "cell_type": "code",
   "execution_count": 4,
   "id": "2c73e122-402d-4be4-a41e-05c80789e65c",
   "metadata": {},
   "outputs": [],
   "source": [
    "def period_occ_gf(w: str, v: str):\n",
    "    '''\n",
    "    This function compute f_{w, v}(x, y)\n",
    "    '''\n",
    "    vlen, wlen = len(v), len(w)\n",
    "    single_gf = [[single_occ_gf(w, v, s, t) for t in range(wlen)] for s in range(wlen)]\n",
    "    # first term\n",
    "    constant_term = [y * sum(single_gf[s][t] / (1 - x) for s in range(wlen)) for t in range(wlen)]\n",
    "    m = [[0] * wlen for _ in range(wlen)]\n",
    "    for t in range(wlen):\n",
    "        for tprime in range(wlen):\n",
    "            # second term\n",
    "            m[t][tprime] = constant_term[t] * x\n",
    "            # third term\n",
    "            m[t][tprime] += y * sum(single_gf[s][t] for s in range(tprime + 1, wlen))\n",
    "        # LHS\n",
    "        m[t][t] -= 1\n",
    "    constant_vec = vector(constant_term)\n",
    "    sysM = Matrix(m)\n",
    "    sol = sysM.solve_right(constant_vec)\n",
    "    return (1 / (1 - x) - x * sum(e for e in sol) / (1 - x)).simplify_full()"
   ]
  },
  {
   "cell_type": "markdown",
   "id": "0123b9d8-2237-4050-9346-59e2c63de4e4",
   "metadata": {},
   "source": [
    "## Some examples"
   ]
  },
  {
   "cell_type": "code",
   "execution_count": 5,
   "id": "231f259e-6f38-4470-8463-c89a2ae602fc",
   "metadata": {},
   "outputs": [
    {
     "data": {
      "text/html": [
       "<html>\\(\\displaystyle -\\frac{x - 1}{x^{2} - x y - 2 \\, x + 1}\\)</html>"
      ],
      "text/latex": [
       "$\\displaystyle -\\frac{x - 1}{x^{2} - x y - 2 \\, x + 1}$"
      ],
      "text/plain": [
       "-(x - 1)/(x^2 - x*y - 2*x + 1)"
      ]
     },
     "metadata": {},
     "output_type": "display_data"
    }
   ],
   "source": [
    "period_occ_gf('01', '01').show()"
   ]
  },
  {
   "cell_type": "code",
   "execution_count": 6,
   "id": "e2d32d5f-eab0-4b69-923b-84557f07b50c",
   "metadata": {},
   "outputs": [
    {
     "data": {
      "text/html": [
       "<html>\\(\\displaystyle -\\frac{x - 1}{x^{2} - 4 \\, x y - 2 \\, x + 1}\\)</html>"
      ],
      "text/latex": [
       "$\\displaystyle -\\frac{x - 1}{x^{2} - 4 \\, x y - 2 \\, x + 1}$"
      ],
      "text/plain": [
       "-(x - 1)/(x^2 - 4*x*y - 2*x + 1)"
      ]
     },
     "metadata": {},
     "output_type": "display_data"
    }
   ],
   "source": [
    "period_occ_gf('0011', '01').show()"
   ]
  },
  {
   "cell_type": "code",
   "execution_count": 7,
   "id": "4c255f7e-027f-44d8-a622-92e1cfefbfa3",
   "metadata": {},
   "outputs": [
    {
     "data": {
      "text/html": [
       "<html>\\(\\displaystyle -\\frac{x^{3} - 3 \\, x^{2} + 3 \\, x - 1}{x^{4} - 4 \\, x^{3} + 6 \\, x^{2} - 9 \\, {\\left(4 \\, x^{3} + 4 \\, x^{2} + x\\right)} y - 4 \\, x + 1}\\)</html>"
      ],
      "text/latex": [
       "$\\displaystyle -\\frac{x^{3} - 3 \\, x^{2} + 3 \\, x - 1}{x^{4} - 4 \\, x^{3} + 6 \\, x^{2} - 9 \\, {\\left(4 \\, x^{3} + 4 \\, x^{2} + x\\right)} y - 4 \\, x + 1}$"
      ],
      "text/plain": [
       "-(x^3 - 3*x^2 + 3*x - 1)/(x^4 - 4*x^3 + 6*x^2 - 9*(4*x^3 + 4*x^2 + x)*y - 4*x + 1)"
      ]
     },
     "metadata": {},
     "output_type": "display_data"
    }
   ],
   "source": [
    "period_occ_gf('000111', '0011').show()"
   ]
  },
  {
   "cell_type": "code",
   "execution_count": null,
   "id": "513a8aed-9b47-409f-8ff1-e90f6e6bcdd3",
   "metadata": {},
   "outputs": [],
   "source": [
    "period_occ_gf('0001100111', '0011').show()"
   ]
  },
  {
   "cell_type": "code",
   "execution_count": null,
   "id": "41594347-3aeb-4171-835d-4219808eed33",
   "metadata": {},
   "outputs": [],
   "source": []
  }
 ],
 "metadata": {
  "kernelspec": {
   "display_name": "SageMath 10.3",
   "language": "sage",
   "name": "sagemath"
  },
  "language_info": {
   "codemirror_mode": {
    "name": "ipython",
    "version": 3
   },
   "file_extension": ".py",
   "mimetype": "text/x-python",
   "name": "python",
   "nbconvert_exporter": "python",
   "pygments_lexer": "ipython3",
   "version": "3.12.4"
  }
 },
 "nbformat": 4,
 "nbformat_minor": 5
}
